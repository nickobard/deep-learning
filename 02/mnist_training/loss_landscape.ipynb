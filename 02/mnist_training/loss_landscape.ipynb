{
 "cells": [
  {
   "cell_type": "code",
   "id": "initial_id",
   "metadata": {
    "collapsed": true,
    "ExecuteTime": {
     "end_time": "2024-09-18T14:23:44.884043Z",
     "start_time": "2024-09-18T14:23:42.413593Z"
    }
   },
   "source": [
    "import os\n",
    "import re\n",
    "from types import SimpleNamespace\n",
    "from tqdm import tqdm\n",
    "import matplotlib.pyplot as plt\n",
    "from matplotlib import cm\n",
    "import ipywidgets as widgets\n",
    "\n",
    "os.environ.setdefault(\"KERAS_BACKEND\", \"torch\")  # Use PyTorch backend unless specified otherwise\n",
    "\n",
    "import keras\n",
    "import numpy as np\n",
    "import torch\n",
    "\n",
    "keras.utils.set_random_seed(42)\n",
    "\n",
    "from mnist import MNIST"
   ],
   "outputs": [],
   "execution_count": 1
  },
  {
   "metadata": {},
   "cell_type": "markdown",
   "source": [
    "# Loss Landscape Visualization\n",
    "\n",
    "In this notebook we will train simple neural network on MNIST dataset and visualize its loss landscape."
   ],
   "id": "dfa9c6269ed85eb7"
  },
  {
   "metadata": {},
   "cell_type": "markdown",
   "source": [
    "## Training Neural Network\n",
    "\n",
    "In this section we:\n",
    "- load dataset\n",
    "- define neural network architecture\n",
    "- save initial parameters\n",
    "- train the model\n",
    "- save trained parameters"
   ],
   "id": "87b24ced9127c9e1"
  },
  {
   "metadata": {
    "ExecuteTime": {
     "end_time": "2024-09-18T14:48:21.685709Z",
     "start_time": "2024-09-18T14:48:21.507654Z"
    }
   },
   "cell_type": "code",
   "source": [
    "mnist = MNIST()\n",
    "args = SimpleNamespace(batch_size=50, epochs=10, hidden_layer=128, learning_rate=1e-2,\n",
    "                       learning_rate_final=1e-3)"
   ],
   "id": "2266363e206bc12d",
   "outputs": [],
   "execution_count": 12
  },
  {
   "metadata": {
    "ExecuteTime": {
     "end_time": "2024-09-18T14:48:22.270465Z",
     "start_time": "2024-09-18T14:48:22.247759Z"
    }
   },
   "cell_type": "code",
   "source": [
    "model = keras.Sequential([\n",
    "    keras.layers.Input(shape=[MNIST.H, MNIST.W, MNIST.C]),\n",
    "    keras.layers.Rescaling(1 / 255),\n",
    "    keras.layers.Flatten(),\n",
    "    keras.layers.Dense(args.hidden_layer, activation=\"relu\"),\n",
    "    keras.layers.Dense(MNIST.LABELS, activation=\"softmax\"),\n",
    "])\n",
    "\n",
    "max_steps = (mnist.train.size // args.batch_size) * args.epochs\n",
    "\n",
    "learning_rate = keras.optimizers.schedules.ExponentialDecay(\n",
    "    initial_learning_rate=args.learning_rate,\n",
    "    decay_rate=args.learning_rate_final / args.learning_rate,\n",
    "    decay_steps=max_steps\n",
    ")\n",
    "\n",
    "optimizer = keras.optimizers.Adam(learning_rate=learning_rate)\n",
    "\n",
    "model.compile(\n",
    "    optimizer=optimizer,\n",
    "    loss=keras.losses.SparseCategoricalCrossentropy(),\n",
    "    metrics=[keras.metrics.SparseCategoricalAccuracy(\"accuracy\")],\n",
    ")\n",
    "\n",
    "model.summary()"
   ],
   "id": "2b0707178e1c916c",
   "outputs": [
    {
     "data": {
      "text/plain": [
       "\u001B[1mModel: \"sequential_1\"\u001B[0m\n"
      ],
      "text/html": [
       "<pre style=\"white-space:pre;overflow-x:auto;line-height:normal;font-family:Menlo,'DejaVu Sans Mono',consolas,'Courier New',monospace\"><span style=\"font-weight: bold\">Model: \"sequential_1\"</span>\n",
       "</pre>\n"
      ]
     },
     "metadata": {},
     "output_type": "display_data"
    },
    {
     "data": {
      "text/plain": [
       "┏━━━━━━━━━━━━━━━━━━━━━━━━━━━━━━━━━┳━━━━━━━━━━━━━━━━━━━━━━━━┳━━━━━━━━━━━━━━━┓\n",
       "┃\u001B[1m \u001B[0m\u001B[1mLayer (type)                   \u001B[0m\u001B[1m \u001B[0m┃\u001B[1m \u001B[0m\u001B[1mOutput Shape          \u001B[0m\u001B[1m \u001B[0m┃\u001B[1m \u001B[0m\u001B[1m      Param #\u001B[0m\u001B[1m \u001B[0m┃\n",
       "┡━━━━━━━━━━━━━━━━━━━━━━━━━━━━━━━━━╇━━━━━━━━━━━━━━━━━━━━━━━━╇━━━━━━━━━━━━━━━┩\n",
       "│ rescaling_1 (\u001B[38;5;33mRescaling\u001B[0m)         │ (\u001B[38;5;45mNone\u001B[0m, \u001B[38;5;34m28\u001B[0m, \u001B[38;5;34m28\u001B[0m, \u001B[38;5;34m1\u001B[0m)      │             \u001B[38;5;34m0\u001B[0m │\n",
       "├─────────────────────────────────┼────────────────────────┼───────────────┤\n",
       "│ flatten_1 (\u001B[38;5;33mFlatten\u001B[0m)             │ (\u001B[38;5;45mNone\u001B[0m, \u001B[38;5;34m784\u001B[0m)            │             \u001B[38;5;34m0\u001B[0m │\n",
       "├─────────────────────────────────┼────────────────────────┼───────────────┤\n",
       "│ dense_2 (\u001B[38;5;33mDense\u001B[0m)                 │ (\u001B[38;5;45mNone\u001B[0m, \u001B[38;5;34m128\u001B[0m)            │       \u001B[38;5;34m100,480\u001B[0m │\n",
       "├─────────────────────────────────┼────────────────────────┼───────────────┤\n",
       "│ dense_3 (\u001B[38;5;33mDense\u001B[0m)                 │ (\u001B[38;5;45mNone\u001B[0m, \u001B[38;5;34m10\u001B[0m)             │         \u001B[38;5;34m1,290\u001B[0m │\n",
       "└─────────────────────────────────┴────────────────────────┴───────────────┘\n"
      ],
      "text/html": [
       "<pre style=\"white-space:pre;overflow-x:auto;line-height:normal;font-family:Menlo,'DejaVu Sans Mono',consolas,'Courier New',monospace\">┏━━━━━━━━━━━━━━━━━━━━━━━━━━━━━━━━━┳━━━━━━━━━━━━━━━━━━━━━━━━┳━━━━━━━━━━━━━━━┓\n",
       "┃<span style=\"font-weight: bold\"> Layer (type)                    </span>┃<span style=\"font-weight: bold\"> Output Shape           </span>┃<span style=\"font-weight: bold\">       Param # </span>┃\n",
       "┡━━━━━━━━━━━━━━━━━━━━━━━━━━━━━━━━━╇━━━━━━━━━━━━━━━━━━━━━━━━╇━━━━━━━━━━━━━━━┩\n",
       "│ rescaling_1 (<span style=\"color: #0087ff; text-decoration-color: #0087ff\">Rescaling</span>)         │ (<span style=\"color: #00d7ff; text-decoration-color: #00d7ff\">None</span>, <span style=\"color: #00af00; text-decoration-color: #00af00\">28</span>, <span style=\"color: #00af00; text-decoration-color: #00af00\">28</span>, <span style=\"color: #00af00; text-decoration-color: #00af00\">1</span>)      │             <span style=\"color: #00af00; text-decoration-color: #00af00\">0</span> │\n",
       "├─────────────────────────────────┼────────────────────────┼───────────────┤\n",
       "│ flatten_1 (<span style=\"color: #0087ff; text-decoration-color: #0087ff\">Flatten</span>)             │ (<span style=\"color: #00d7ff; text-decoration-color: #00d7ff\">None</span>, <span style=\"color: #00af00; text-decoration-color: #00af00\">784</span>)            │             <span style=\"color: #00af00; text-decoration-color: #00af00\">0</span> │\n",
       "├─────────────────────────────────┼────────────────────────┼───────────────┤\n",
       "│ dense_2 (<span style=\"color: #0087ff; text-decoration-color: #0087ff\">Dense</span>)                 │ (<span style=\"color: #00d7ff; text-decoration-color: #00d7ff\">None</span>, <span style=\"color: #00af00; text-decoration-color: #00af00\">128</span>)            │       <span style=\"color: #00af00; text-decoration-color: #00af00\">100,480</span> │\n",
       "├─────────────────────────────────┼────────────────────────┼───────────────┤\n",
       "│ dense_3 (<span style=\"color: #0087ff; text-decoration-color: #0087ff\">Dense</span>)                 │ (<span style=\"color: #00d7ff; text-decoration-color: #00d7ff\">None</span>, <span style=\"color: #00af00; text-decoration-color: #00af00\">10</span>)             │         <span style=\"color: #00af00; text-decoration-color: #00af00\">1,290</span> │\n",
       "└─────────────────────────────────┴────────────────────────┴───────────────┘\n",
       "</pre>\n"
      ]
     },
     "metadata": {},
     "output_type": "display_data"
    },
    {
     "data": {
      "text/plain": [
       "\u001B[1m Total params: \u001B[0m\u001B[38;5;34m101,770\u001B[0m (397.54 KB)\n"
      ],
      "text/html": [
       "<pre style=\"white-space:pre;overflow-x:auto;line-height:normal;font-family:Menlo,'DejaVu Sans Mono',consolas,'Courier New',monospace\"><span style=\"font-weight: bold\"> Total params: </span><span style=\"color: #00af00; text-decoration-color: #00af00\">101,770</span> (397.54 KB)\n",
       "</pre>\n"
      ]
     },
     "metadata": {},
     "output_type": "display_data"
    },
    {
     "data": {
      "text/plain": [
       "\u001B[1m Trainable params: \u001B[0m\u001B[38;5;34m101,770\u001B[0m (397.54 KB)\n"
      ],
      "text/html": [
       "<pre style=\"white-space:pre;overflow-x:auto;line-height:normal;font-family:Menlo,'DejaVu Sans Mono',consolas,'Courier New',monospace\"><span style=\"font-weight: bold\"> Trainable params: </span><span style=\"color: #00af00; text-decoration-color: #00af00\">101,770</span> (397.54 KB)\n",
       "</pre>\n"
      ]
     },
     "metadata": {},
     "output_type": "display_data"
    },
    {
     "data": {
      "text/plain": [
       "\u001B[1m Non-trainable params: \u001B[0m\u001B[38;5;34m0\u001B[0m (0.00 B)\n"
      ],
      "text/html": [
       "<pre style=\"white-space:pre;overflow-x:auto;line-height:normal;font-family:Menlo,'DejaVu Sans Mono',consolas,'Courier New',monospace\"><span style=\"font-weight: bold\"> Non-trainable params: </span><span style=\"color: #00af00; text-decoration-color: #00af00\">0</span> (0.00 B)\n",
       "</pre>\n"
      ]
     },
     "metadata": {},
     "output_type": "display_data"
    }
   ],
   "execution_count": 13
  },
  {
   "metadata": {
    "ExecuteTime": {
     "end_time": "2024-09-18T14:48:23.305528Z",
     "start_time": "2024-09-18T14:48:23.294833Z"
    }
   },
   "cell_type": "code",
   "source": [
    "# Save initial parameters/weights of the model.\n",
    "theta_0 = [param.data.clone() for param in model.parameters()]\n",
    "theta_0"
   ],
   "id": "b4fabd252e2674cc",
   "outputs": [
    {
     "data": {
      "text/plain": [
       "[tensor([[ 0.0188, -0.0531, -0.0275,  ..., -0.0293,  0.0531, -0.0326],\n",
       "         [ 0.0408, -0.0645,  0.0625,  ...,  0.0544, -0.0456,  0.0718],\n",
       "         [-0.0452,  0.0373,  0.0305,  ...,  0.0380,  0.0310,  0.0340],\n",
       "         ...,\n",
       "         [-0.0638, -0.0676,  0.0280,  ...,  0.0232, -0.0309, -0.0735],\n",
       "         [-0.0235, -0.0638, -0.0497,  ..., -0.0683,  0.0726, -0.0394],\n",
       "         [-0.0447, -0.0136,  0.0567,  ...,  0.0586, -0.0378,  0.0362]],\n",
       "        device='cuda:0'),\n",
       " tensor([0., 0., 0., 0., 0., 0., 0., 0., 0., 0., 0., 0., 0., 0., 0., 0., 0., 0., 0., 0., 0., 0., 0., 0.,\n",
       "         0., 0., 0., 0., 0., 0., 0., 0., 0., 0., 0., 0., 0., 0., 0., 0., 0., 0., 0., 0., 0., 0., 0., 0.,\n",
       "         0., 0., 0., 0., 0., 0., 0., 0., 0., 0., 0., 0., 0., 0., 0., 0., 0., 0., 0., 0., 0., 0., 0., 0.,\n",
       "         0., 0., 0., 0., 0., 0., 0., 0., 0., 0., 0., 0., 0., 0., 0., 0., 0., 0., 0., 0., 0., 0., 0., 0.,\n",
       "         0., 0., 0., 0., 0., 0., 0., 0., 0., 0., 0., 0., 0., 0., 0., 0., 0., 0., 0., 0., 0., 0., 0., 0.,\n",
       "         0., 0., 0., 0., 0., 0., 0., 0.], device='cuda:0'),\n",
       " tensor([[ 0.1656, -0.0676, -0.0910,  ...,  0.1391, -0.1756,  0.1732],\n",
       "         [ 0.0291, -0.0498,  0.1682,  ..., -0.1323,  0.0955, -0.1583],\n",
       "         [ 0.0813, -0.0003,  0.2082,  ...,  0.1258, -0.0922,  0.1692],\n",
       "         ...,\n",
       "         [-0.1871,  0.1928, -0.1685,  ..., -0.0787,  0.0986,  0.1977],\n",
       "         [-0.0567,  0.1631,  0.0582,  ...,  0.0079, -0.1249,  0.1243],\n",
       "         [ 0.1560,  0.1841, -0.1912,  ..., -0.0269,  0.0816,  0.1533]],\n",
       "        device='cuda:0'),\n",
       " tensor([0., 0., 0., 0., 0., 0., 0., 0., 0., 0.], device='cuda:0')]"
      ]
     },
     "execution_count": 14,
     "metadata": {},
     "output_type": "execute_result"
    }
   ],
   "execution_count": 14
  },
  {
   "metadata": {
    "ExecuteTime": {
     "end_time": "2024-09-18T14:48:24.818097Z",
     "start_time": "2024-09-18T14:48:24.806939Z"
    }
   },
   "cell_type": "code",
   "source": [
    "# If the model is saved in filesystem - load it, otherwise train it and save.\n",
    "\n",
    "if os.path.exists('model.weights.h5'):\n",
    "    model.load_weights('model.weights.h5')\n",
    "else:\n",
    "    model.fit(\n",
    "        mnist.train.data[\"images\"], mnist.train.data[\"labels\"],\n",
    "        batch_size=args.batch_size, epochs=args.epochs,\n",
    "        validation_data=(mnist.dev.data[\"images\"], mnist.dev.data[\"labels\"])\n",
    "    )\n",
    "    model.save_weights('model.weights.h5')"
   ],
   "id": "2dc89bf45446617e",
   "outputs": [],
   "execution_count": 15
  },
  {
   "metadata": {
    "ExecuteTime": {
     "end_time": "2024-09-18T14:48:26.096011Z",
     "start_time": "2024-09-18T14:48:26.081873Z"
    }
   },
   "cell_type": "code",
   "source": [
    "# Save trained parameters of the model.\n",
    "theta_star = [param.data.clone() for param in model.parameters()]\n",
    "theta_star"
   ],
   "id": "7d403d677cb2ceda",
   "outputs": [
    {
     "data": {
      "text/plain": [
       "[tensor([[ 0.0188, -0.0531, -0.0275,  ..., -0.0293,  0.0531, -0.0326],\n",
       "         [ 0.0408, -0.0645,  0.0625,  ...,  0.0544, -0.0456,  0.0718],\n",
       "         [-0.0452,  0.0373,  0.0305,  ...,  0.0380,  0.0310,  0.0340],\n",
       "         ...,\n",
       "         [-0.0638, -0.0676,  0.0280,  ...,  0.0232, -0.0309, -0.0735],\n",
       "         [-0.0235, -0.0638, -0.0497,  ..., -0.0683,  0.0726, -0.0394],\n",
       "         [-0.0447, -0.0136,  0.0567,  ...,  0.0586, -0.0378,  0.0362]],\n",
       "        device='cuda:0'),\n",
       " tensor([-0.2900, -0.0700,  0.0203,  0.0436, -0.0170, -0.2583,  0.3683, -0.1987,\n",
       "         -0.0456, -0.2884, -0.0599, -0.0789,  0.0081, -0.4519, -0.0600, -0.0042,\n",
       "          0.1422,  0.0932,  0.0295, -0.0599,  0.4157,  0.1814, -0.0599, -0.0137,\n",
       "         -0.6069,  0.4647, -0.0476,  0.1774, -0.2244, -0.1014, -0.0739, -0.1043,\n",
       "         -0.0599,  0.2158, -0.0722, -0.0385, -0.0738,  0.2654, -0.1365,  0.0305,\n",
       "         -0.3626, -0.0375, -0.0632,  0.1315, -0.6022, -0.0475, -0.1004, -0.0119,\n",
       "         -0.0598, -0.0685, -0.4184, -0.0599, -0.0747, -0.0500, -0.3192,  0.0074,\n",
       "         -0.0635, -0.0738,  0.2235, -0.0341, -0.3541,  0.4944, -0.1381, -0.0599,\n",
       "         -0.0513, -0.0123,  0.1194,  0.0217, -0.0599, -0.4733, -0.3379, -0.0599,\n",
       "          0.0475, -0.2484, -0.1030, -0.1048, -0.0523, -0.1127,  0.2794,  0.0353,\n",
       "         -0.0330, -0.1934, -0.0888,  0.1689,  0.2379, -0.0936, -0.0766,  0.0981,\n",
       "         -0.0599,  0.0872, -0.6272, -0.0741, -0.0366, -0.2578, -0.4671, -0.0298,\n",
       "          0.1848, -0.0659, -0.0656, -0.0470, -0.0739,  0.0613, -0.2741, -0.0062,\n",
       "         -0.0300, -0.0599, -0.5356, -0.0658, -0.0875, -0.0647, -0.2609, -0.1166,\n",
       "         -0.0571, -0.1616, -0.5093, -0.0598, -0.6378, -0.0843, -0.3003,  0.1000,\n",
       "         -0.2726, -0.1454,  0.0195, -0.3350, -0.3072, -0.0757, -0.1846, -0.0420],\n",
       "        device='cuda:0'),\n",
       " tensor([[ 0.5013,  0.1795,  0.2880,  ...,  0.2347, -0.4857,  0.2794],\n",
       "         [-0.1499,  0.2001,  0.2087,  ..., -0.4529,  0.2005, -0.7839],\n",
       "         [ 0.1826, -0.3573,  0.5010,  ..., -0.2559, -0.5044,  0.4272],\n",
       "         ...,\n",
       "         [-0.1280,  0.1298, -0.2343,  ..., -0.0942,  0.1593,  0.1317],\n",
       "         [-0.2493,  0.2075, -0.2649,  ..., -0.5789, -0.4690,  0.2385],\n",
       "         [ 0.1809,  0.1826, -0.1007,  ...,  0.0197,  0.0139,  0.0748]],\n",
       "        device='cuda:0'),\n",
       " tensor([ 0.0119, -0.7616, -0.1913, -0.2128,  0.2776, -0.0414, -0.4619, -0.5140,\n",
       "          1.2767, -0.0850], device='cuda:0')]"
      ]
     },
     "execution_count": 16,
     "metadata": {},
     "output_type": "execute_result"
    }
   ],
   "execution_count": 16
  },
  {
   "metadata": {},
   "cell_type": "markdown",
   "source": [
    "## Visualizing the Loss Landscape\n",
    "\n",
    "We use method explained in [Li et al. 2018](https://arxiv.org/pdf/1712.09913):\n",
    "\n",
    "1. Selection of Direction Vectors\n",
    "2. Parameter Space Projection\n",
    "3. Loss Computation\n",
    "4. Visualization"
   ],
   "id": "5992ba40aaf0c2a"
  },
  {
   "metadata": {},
   "cell_type": "markdown",
   "source": [
    "### Selection of Direction Vectors\n",
    "\n",
    "$d_1$ is our first vector: $$d_1 = \\theta^* - \\theta_0.$$\n",
    "\n",
    "$d_2$ we is random vector, orthogonal to $d_1$.\n",
    "\n",
    "We work with weights of the model, as with one single vector. But to compute loss later, we need to preserve model's structure of weights, and cannot flatten all weights tensors into one single vector. We have to compute $d_1$ and $d_2$ part-wise.\n",
    "\n",
    "We use Gram Schmidt Orthogonalization to get $d_2$.\n",
    "\n",
    "![](img/d1_dot_d2.png)"
   ],
   "id": "6871e38ba468cb6d"
  },
  {
   "metadata": {
    "ExecuteTime": {
     "end_time": "2024-09-18T14:50:20.625278Z",
     "start_time": "2024-09-18T14:50:20.619108Z"
    }
   },
   "cell_type": "code",
   "source": [
    "d1 = [t_star - t_0 for t_star, t_0 in zip(theta_star, theta_0)]\n",
    "d2 = [torch.randn_like(d) for d in d1]\n",
    "\n",
    "d1_dot_d2 = sum([torch.sum(d1_i * d2_i) for d1_i, d2_i in zip(d1, d2)])\n",
    "d1_dot_d2"
   ],
   "id": "32ddf97faa3b878a",
   "outputs": [
    {
     "data": {
      "text/plain": [
       "tensor(-126.3126, device='cuda:0')"
      ]
     },
     "execution_count": 27,
     "metadata": {},
     "output_type": "execute_result"
    }
   ],
   "execution_count": 27
  },
  {
   "metadata": {
    "ExecuteTime": {
     "end_time": "2024-09-18T14:50:01.924598Z",
     "start_time": "2024-09-18T14:50:01.881506Z"
    }
   },
   "cell_type": "code",
   "source": [
    "d1_dot_d1 = sum([torch.sum(d1_i * d1_i) for d1_i in d1])\n",
    "scale = d1_dot_d2 / d1_dot_d1\n",
    "\n",
    "d2_orto = [d2_i - scale * d1_i for d1_i, d2_i in zip(d1, d2)]\n",
    "\n",
    "d1_norm = torch.sqrt(sum([torch.sum(d_i ** 2) for d_i in d1]))\n",
    "d2_orto_norm = torch.sqrt(sum([torch.sum(d_i ** 2) for d_i in d2_orto]))\n",
    "\n",
    "d1 = [d_i / d1_norm for d_i in d1]\n",
    "d2 = [d_i / d2_orto_norm for d_i in d2_orto]"
   ],
   "id": "19a6813d6ee9ca06",
   "outputs": [],
   "execution_count": 22
  },
  {
   "metadata": {
    "ExecuteTime": {
     "end_time": "2024-09-17T18:40:15.115252Z",
     "start_time": "2024-09-17T18:40:15.108744Z"
    }
   },
   "cell_type": "code",
   "source": [
    "dot = sum([torch.sum(d1_i * d2_i) for d1_i, d2_i in zip(d1, d2)])\n",
    "dot"
   ],
   "id": "aad478b17c024081",
   "outputs": [
    {
     "data": {
      "text/plain": [
       "tensor(-2.0373e-10, device='cuda:0')"
      ]
     },
     "execution_count": 94,
     "metadata": {},
     "output_type": "execute_result"
    }
   ],
   "execution_count": 94
  },
  {
   "metadata": {
    "ExecuteTime": {
     "end_time": "2024-09-17T18:40:15.728856Z",
     "start_time": "2024-09-17T18:40:15.725182Z"
    }
   },
   "cell_type": "code",
   "source": [
    "alpha = beta = np.linspace(-1000, 1000, 100)\n",
    "alpha_mesh, beta_mesh = np.meshgrid(alpha, beta)"
   ],
   "id": "c84122d341540dc1",
   "outputs": [],
   "execution_count": 95
  },
  {
   "metadata": {
    "ExecuteTime": {
     "end_time": "2024-09-17T18:40:16.219006Z",
     "start_time": "2024-09-17T18:40:16.213487Z"
    }
   },
   "cell_type": "code",
   "source": [
    "loss_values = np.zeros_like(alpha_mesh)\n",
    "\n",
    "\n",
    "def compute_loss_values(loss_values):\n",
    "    for i in tqdm(range(alpha_mesh.shape[0]), desc='Loss computation'):\n",
    "        for j in range(beta_mesh.shape[1]):\n",
    "            # Compute new parameters\n",
    "            theta = [theta_star_i + alpha_mesh[i, j] * d1_i + beta_mesh[i, j] * d2_i\n",
    "                     for theta_star_i, d1_i, d2_i in zip(theta_star, d1, d2)]\n",
    "\n",
    "            # Load parameters into the model\n",
    "            for param, theta_i in zip(model.parameters(), theta):\n",
    "                param.data = theta_i\n",
    "\n",
    "            # Evaluate loss on validation set\n",
    "            scalars = model.evaluate(mnist.dev.data[\"images\"], mnist.dev.data[\"labels\"],\n",
    "                                     batch_size=min(mnist.dev.data['images'].shape[0], 5000), verbose=0)\n",
    "            loss_values[i, j] = scalars[0]"
   ],
   "id": "65c6a76b7324eec4",
   "outputs": [],
   "execution_count": 96
  },
  {
   "metadata": {
    "ExecuteTime": {
     "end_time": "2024-09-17T18:40:16.976931Z",
     "start_time": "2024-09-17T18:40:16.972898Z"
    }
   },
   "cell_type": "code",
   "source": [
    "if os.path.exists('loss_values.npy'):\n",
    "    loss_values = np.load('loss_values.npy')\n",
    "else:\n",
    "    compute_loss_values(loss_values)\n",
    "    np.save('loss_values.npy', loss_values)"
   ],
   "id": "258bd812c40f0405",
   "outputs": [],
   "execution_count": 97
  },
  {
   "metadata": {
    "ExecuteTime": {
     "end_time": "2024-09-17T18:40:17.571634Z",
     "start_time": "2024-09-17T18:40:17.566797Z"
    }
   },
   "cell_type": "code",
   "source": [
    "def plot_loss_landscape(elev=40, azim=20):\n",
    "    fig = plt.figure(figsize=(10, 10), constrained_layout=True)\n",
    "    ax = fig.add_subplot(projection='3d')\n",
    "\n",
    "    # Plot the surface\n",
    "    surf = ax.plot_surface(\n",
    "        alpha_mesh,  # X-axis values\n",
    "        beta_mesh,  # Y-axis values\n",
    "        loss_values,  # Z-axis values (loss)\n",
    "        cmap=cm.coolwarm,\n",
    "        edgecolor='black',\n",
    "        linewidth=0.5,\n",
    "        antialiased=True\n",
    "    )\n",
    "\n",
    "    # Add a color bar to map colors to loss values\n",
    "    fig.colorbar(surf, shrink=0.5, aspect=20)\n",
    "\n",
    "    # Set labels and title\n",
    "    ax.set_xlabel('Alpha')\n",
    "    ax.set_ylabel('Beta')\n",
    "    ax.set_zlabel('Loss')\n",
    "    ax.set_title('3D Loss Landscape')\n",
    "\n",
    "    # Optional: Adjust the viewing angle\n",
    "    ax.view_init(elev=elev, azim=azim)  # Elevation and azimuthal angles\n",
    "\n",
    "    plt.show()"
   ],
   "id": "a1c16d49a6368ac2",
   "outputs": [],
   "execution_count": 98
  },
  {
   "metadata": {
    "ExecuteTime": {
     "end_time": "2024-09-17T18:40:19.928918Z",
     "start_time": "2024-09-17T18:40:18.929494Z"
    }
   },
   "cell_type": "code",
   "source": [
    "elevation_slider = widgets.IntSlider(min=-90, max=90, step=10, value=40, description='Elevation',\n",
    "                                     continuous_update=False, style={'description_width': 'initial'})\n",
    "azimuth_slider = widgets.IntSlider(min=0, max=360, step=10, value=20, description='Azimuth Angle',\n",
    "                                   continuous_update=False, style={'description_width': 'initial'})\n",
    "\n",
    "widgets.interact(plot_loss_landscape, elev=elevation_slider, azim=azimuth_slider)\n",
    "plt.show()"
   ],
   "id": "8a312c31d464f0b7",
   "outputs": [
    {
     "data": {
      "text/plain": [
       "interactive(children=(IntSlider(value=40, continuous_update=False, description='Elevation', max=90, min=-90, s…"
      ],
      "application/vnd.jupyter.widget-view+json": {
       "version_major": 2,
       "version_minor": 0,
       "model_id": "7e56930bb8394e81b290858450c6cf03"
      }
     },
     "metadata": {},
     "output_type": "display_data"
    }
   ],
   "execution_count": 99
  },
  {
   "metadata": {},
   "cell_type": "markdown",
   "source": "# Neurons visualizations",
   "id": "ceb761835381e7eb"
  },
  {
   "metadata": {},
   "cell_type": "markdown",
   "source": "### Visualizing weights of the first hidden layer",
   "id": "dc391ef526698a05"
  },
  {
   "metadata": {
    "ExecuteTime": {
     "end_time": "2024-09-17T18:40:32.037942Z",
     "start_time": "2024-09-17T18:40:32.026774Z"
    }
   },
   "cell_type": "code",
   "source": [
    "def get_ith_neuron_image(i):\n",
    "    return theta_star[0][:, i].reshape(28, 28).cpu().detach().numpy()\n",
    "\n",
    "\n",
    "get_ith_neuron_image(0)"
   ],
   "id": "5017d508e97f6421",
   "outputs": [
    {
     "data": {
      "text/plain": [
       "array([[ 1.88371092e-02,  4.08158004e-02, -4.51814234e-02,\n",
       "         4.60608378e-02, -3.02801728e-02, -4.34033684e-02,\n",
       "        -3.69116664e-03,  1.34845823e-03,  6.83250502e-02,\n",
       "        -1.00409016e-02, -2.01657340e-02, -3.57591398e-02,\n",
       "        -7.28134513e-02,  5.46814278e-02, -2.68688053e-03,\n",
       "        -7.78069571e-02, -1.93568505e-02,  2.26356909e-02,\n",
       "         4.34202924e-02, -7.29111433e-02,  2.59754434e-02,\n",
       "        -2.22740248e-02, -5.21840900e-02, -4.94082570e-02,\n",
       "        -2.72345096e-02, -1.20177865e-02, -8.28750432e-03,\n",
       "        -3.88667732e-02],\n",
       "       [-5.11118509e-02, -7.93505237e-02,  3.05279046e-02,\n",
       "         2.83949673e-02, -1.41286626e-02, -2.15247944e-02,\n",
       "        -1.36367694e-01, -3.92277613e-02, -1.46044893e-02,\n",
       "        -1.06560789e-01, -1.06972836e-01, -4.62338654e-03,\n",
       "        -1.33952379e-01, -4.39819276e-01, -2.55807638e-01,\n",
       "         4.18845154e-02,  1.99255962e-02,  3.55649218e-02,\n",
       "         1.12902671e-02,  7.74211958e-02,  4.19215560e-02,\n",
       "         3.82500142e-03,  1.47507340e-02, -2.78635807e-02,\n",
       "         1.16412044e-02,  4.80664894e-02, -6.51434064e-03,\n",
       "         2.57509574e-02],\n",
       "       [-4.57583703e-02, -2.13671140e-02,  1.86942071e-02,\n",
       "         2.82528996e-02, -8.25065374e-02, -9.47094709e-02,\n",
       "        -9.82839018e-02, -2.77451664e-01, -2.02314675e-01,\n",
       "         1.08916283e-01,  3.46862614e-01, -2.77157158e-01,\n",
       "        -5.06265223e-01, -2.08074018e-01, -8.18624914e-01,\n",
       "        -6.36170328e-01, -4.98469949e-01, -3.02025050e-01,\n",
       "        -1.10889219e-01, -4.88047637e-02, -4.59641740e-02,\n",
       "         1.94405597e-02,  7.97049254e-02,  3.40657607e-02,\n",
       "         5.91389090e-03, -5.55876568e-02, -4.45402414e-02,\n",
       "        -4.76977192e-02],\n",
       "       [-4.13947552e-03,  6.73529580e-02,  3.77021432e-02,\n",
       "        -6.16249666e-02,  1.07928239e-01, -8.57722685e-02,\n",
       "         3.20098251e-01,  4.89417523e-01, -2.52148677e-02,\n",
       "        -4.70373511e-01, -8.09464678e-02,  4.50015426e-01,\n",
       "         8.14978004e-01,  8.27709138e-01, -1.91026136e-01,\n",
       "        -1.19035995e+00, -1.23701811e+00, -8.96939278e-01,\n",
       "        -1.27996698e-01, -4.10949439e-01, -4.04851675e-01,\n",
       "        -2.56058156e-01, -1.44787937e-01, -1.26263648e-01,\n",
       "         6.49490282e-02, -4.38344851e-02,  4.05265316e-02,\n",
       "        -6.90638795e-02],\n",
       "       [-1.13197640e-02,  3.15656587e-02,  5.38647547e-02,\n",
       "         1.80873558e-01,  3.13257068e-01,  7.09853590e-01,\n",
       "         6.58000112e-01,  1.01700701e-01,  5.29886425e-01,\n",
       "        -1.45113347e-02,  1.73371464e-01,  6.41406894e-01,\n",
       "         7.14270890e-01,  1.13428128e+00,  3.05044830e-01,\n",
       "        -3.84868234e-01, -1.27124250e+00, -2.11171174e+00,\n",
       "        -1.42517877e+00, -1.03793216e+00, -6.71281099e-01,\n",
       "        -2.29873449e-01, -5.94832957e-01,  7.69557655e-02,\n",
       "         7.58537352e-02, -1.72534063e-02,  2.42717564e-03,\n",
       "         7.88061246e-02],\n",
       "       [-6.71903044e-02,  2.92830393e-02, -3.37968320e-02,\n",
       "         5.46905756e-01,  6.67443573e-01,  7.61440039e-01,\n",
       "         5.24355948e-01,  4.23199296e-01,  3.30056489e-01,\n",
       "        -4.40580994e-02,  4.77026440e-02,  3.14800888e-01,\n",
       "         2.14075089e-01,  3.70046854e-01, -2.52615422e-01,\n",
       "         6.50353432e-02, -5.03226817e-01, -1.64685631e+00,\n",
       "        -1.86473918e+00, -1.35432374e+00, -9.52094674e-01,\n",
       "        -7.32180178e-01, -7.02474415e-01, -4.57159877e-01,\n",
       "         7.05543812e-03,  1.08653214e-03, -1.63842011e-02,\n",
       "        -9.89025831e-03],\n",
       "       [ 3.73043716e-02,  7.72225186e-02, -1.48894891e-01,\n",
       "         4.46552098e-01,  2.59023309e-01, -8.82580653e-02,\n",
       "         5.44102311e-01,  1.46719247e-01,  1.07042426e-04,\n",
       "         1.71523109e-01,  1.21210515e-01,  2.57133156e-01,\n",
       "         8.68564025e-02,  2.96163887e-01,  3.65928039e-02,\n",
       "        -1.47867516e-01, -1.78179089e-02, -8.59591901e-01,\n",
       "        -1.38146436e+00, -1.23461342e+00, -7.45506644e-01,\n",
       "        -5.84555507e-01, -3.51350337e-01, -2.17793077e-01,\n",
       "        -2.86504696e-03, -9.87128392e-02, -1.38325561e-02,\n",
       "        -7.02816918e-02],\n",
       "       [-2.95244865e-02, -3.59003134e-02, -4.39929254e-02,\n",
       "         6.34661198e-01,  5.08483827e-01, -2.32317552e-01,\n",
       "         4.09346670e-01, -2.15214580e-01,  5.65288067e-02,\n",
       "        -1.13982618e-01, -4.95489717e-01, -1.25353172e-01,\n",
       "         2.34212652e-01,  6.60394490e-01,  5.68502486e-01,\n",
       "         2.58747965e-01, -1.49701327e-01, -4.91950870e-01,\n",
       "        -1.33042622e+00, -1.50308383e+00, -1.12366223e+00,\n",
       "        -9.82281923e-01, -7.25152791e-01, -4.05673653e-01,\n",
       "        -3.27220172e-01, -5.06803207e-02, -9.88739505e-02,\n",
       "        -9.18645859e-02],\n",
       "       [ 1.46000870e-02, -3.51767123e-01,  8.32811594e-02,\n",
       "         5.69398701e-01,  6.79661274e-01, -2.27428705e-01,\n",
       "        -9.46128443e-02, -9.08786654e-02,  7.63522759e-02,\n",
       "        -2.89543301e-01, -3.08749437e-01, -1.54529840e-01,\n",
       "         3.05536807e-01,  6.07105553e-01,  9.44868326e-01,\n",
       "         5.87982059e-01, -6.19958108e-03, -5.33533156e-01,\n",
       "        -1.09642470e+00, -1.29359949e+00, -1.33881533e+00,\n",
       "        -1.12217128e+00, -9.88717496e-01, -5.70526302e-01,\n",
       "        -4.19972032e-01, -2.37984180e-01, -2.11708680e-01,\n",
       "        -7.93549791e-02],\n",
       "       [-4.35435697e-02, -2.56377548e-01,  2.19390109e-01,\n",
       "         8.79250050e-01,  5.47300577e-01,  2.86181629e-01,\n",
       "        -2.59594262e-01, -1.25954419e-01, -5.10834396e-01,\n",
       "        -6.46578670e-01, -5.21018952e-02,  1.94452792e-01,\n",
       "         5.31905591e-01,  4.58867788e-01,  7.20675886e-01,\n",
       "         3.23940605e-01,  4.91382442e-02, -2.89494544e-01,\n",
       "        -7.90126562e-01, -9.04718220e-01, -1.11705196e+00,\n",
       "        -9.89512324e-01, -6.94801867e-01, -4.46168184e-01,\n",
       "        -4.44636434e-01,  6.64652064e-02,  1.25501409e-01,\n",
       "         6.28884658e-02],\n",
       "       [ 2.29233429e-02, -2.07735255e-01,  3.70145082e-01,\n",
       "         9.56143260e-01,  3.24524879e-01,  4.15694341e-02,\n",
       "        -2.46715024e-01, -1.38249453e-02, -2.91199744e-01,\n",
       "        -4.97544587e-01,  3.32433224e-01,  2.00467706e-01,\n",
       "         9.74898636e-02,  2.59397060e-01,  2.15302393e-01,\n",
       "         3.30076460e-03,  1.90109134e-01,  5.61308153e-02,\n",
       "        -2.30705380e-01, -7.92475402e-01, -8.48752737e-01,\n",
       "        -1.01276720e+00, -6.35941684e-01, -4.39453185e-01,\n",
       "        -3.60317618e-01, -5.12740947e-02, -3.58806066e-02,\n",
       "         1.66371267e-03],\n",
       "       [ 1.55994743e-01,  1.71987414e-02,  8.64151835e-01,\n",
       "         7.44447708e-01,  5.65690279e-01, -1.31701589e-01,\n",
       "        -8.78962949e-02,  8.77181143e-02, -6.35448769e-02,\n",
       "        -1.89112648e-01,  1.06788062e-01,  2.62401789e-01,\n",
       "         1.41579702e-01,  3.30296487e-01,  3.10168475e-01,\n",
       "         2.72193756e-02, -2.58864522e-01,  3.14424455e-01,\n",
       "         2.02493340e-01, -2.62273669e-01, -4.01100069e-01,\n",
       "        -9.85543013e-01, -7.98541427e-01, -6.15782499e-01,\n",
       "        -4.56868589e-01, -1.16941206e-01, -9.70789269e-02,\n",
       "        -8.95249769e-02],\n",
       "       [ 1.12990037e-01,  9.09388158e-03,  4.46433365e-01,\n",
       "         8.26637089e-01,  6.57116950e-01, -6.86588523e-04,\n",
       "        -2.60446548e-01, -7.88300037e-02,  1.21110745e-01,\n",
       "         3.07047606e-01,  2.83622146e-02,  8.92471075e-02,\n",
       "         1.57470852e-01,  3.85205060e-01,  1.95777461e-01,\n",
       "         2.50085127e-02, -4.07656915e-02,  4.21746939e-01,\n",
       "         4.86547977e-01, -2.60222197e-01, -6.78791285e-01,\n",
       "        -6.52483344e-01, -4.54485118e-01, -7.66810298e-01,\n",
       "        -3.53607833e-01,  4.08364683e-01,  1.86807826e-01,\n",
       "         1.71290800e-01],\n",
       "       [ 4.00098898e-02,  2.94899762e-01,  4.05309021e-01,\n",
       "         3.86793792e-01,  8.49543989e-01,  2.58428693e-01,\n",
       "         1.50646940e-01, -1.31713435e-01,  8.87068957e-02,\n",
       "         3.63714039e-01,  2.28863001e-01,  3.08906175e-02,\n",
       "         1.50087878e-01,  1.33309230e-01,  2.40451079e-02,\n",
       "         5.19623756e-02,  1.71918005e-01,  3.29293162e-01,\n",
       "         1.98376134e-01, -2.75810987e-01, -4.49172467e-01,\n",
       "        -6.01854205e-01, -1.93568602e-01, -2.00683042e-01,\n",
       "        -5.23435771e-01,  3.64173412e-01,  2.38375753e-01,\n",
       "        -1.69365704e-01],\n",
       "       [-4.30714458e-01,  6.10741340e-02,  3.26952726e-01,\n",
       "         4.37385261e-01,  8.18748832e-01, -2.29342386e-01,\n",
       "        -1.33709565e-01, -2.59255797e-01, -2.52701491e-01,\n",
       "         2.16064557e-01,  1.41981795e-01, -1.29222795e-01,\n",
       "         9.00883451e-02, -1.43757194e-01, -1.71514660e-01,\n",
       "        -9.94070396e-02,  5.43095246e-02, -1.07817471e-01,\n",
       "        -4.09852378e-02,  2.03320026e-01, -1.04802966e-01,\n",
       "        -1.13035835e-01, -1.76814258e-01,  3.24599087e-01,\n",
       "        -1.27421066e-01, -2.24034578e-01,  3.21339779e-02,\n",
       "        -5.07283658e-02],\n",
       "       [-3.32700074e-01, -3.90397795e-02, -1.35912314e-01,\n",
       "         4.81858969e-01, -3.86543982e-02, -4.86145556e-01,\n",
       "        -5.68512082e-01, -6.50255024e-01, -4.75423217e-01,\n",
       "        -2.08429992e-02,  2.06808373e-01, -3.71563733e-01,\n",
       "        -6.51750565e-01, -5.48033893e-01, -6.00268960e-01,\n",
       "        -2.39128694e-01,  8.95345807e-02,  3.89876485e-01,\n",
       "        -2.11675372e-02,  7.37448260e-02,  2.74125636e-01,\n",
       "         1.67400956e-01,  1.52489334e-01, -3.20590436e-01,\n",
       "        -4.06250119e-01, -5.19901812e-01,  1.25832319e-01,\n",
       "         1.19355321e-03],\n",
       "       [ 4.22947705e-02,  2.58231116e-03,  6.21720776e-03,\n",
       "         4.57190305e-01, -2.25689277e-01, -6.33898079e-01,\n",
       "        -8.01443934e-01, -5.36099076e-01, -5.02255559e-01,\n",
       "         1.39279723e-01,  4.15321231e-01,  1.30133284e-02,\n",
       "        -2.94050813e-01, -4.84508336e-01, -2.81904817e-01,\n",
       "        -4.25618410e-01, -2.77848542e-01, -2.76222587e-01,\n",
       "         1.19915113e-01, -1.00040184e-02,  2.81120420e-01,\n",
       "         7.39420280e-02,  2.51812071e-01,  9.50524807e-02,\n",
       "        -1.56682625e-01, -3.48634422e-01,  3.91877778e-02,\n",
       "        -1.22337446e-01],\n",
       "       [-4.74942215e-02, -8.49165022e-03, -2.22808234e-02,\n",
       "         5.66412747e-01, -4.61014181e-01, -8.79408345e-02,\n",
       "         1.77349383e-03, -8.38894546e-01, -2.35535979e-01,\n",
       "        -1.93178400e-01, -8.93470123e-02, -4.19393361e-01,\n",
       "        -1.01498105e-01, -6.67621970e-01, -3.40093970e-01,\n",
       "        -4.96793687e-01, -2.09647134e-01, -2.08212093e-01,\n",
       "         5.62940165e-02, -5.96363656e-02,  3.85346916e-03,\n",
       "        -1.26950011e-01, -5.60068227e-02,  2.09591538e-01,\n",
       "         1.32566199e-01, -1.73277110e-02, -6.24424554e-02,\n",
       "        -1.01612531e-01],\n",
       "       [-7.03987256e-02,  5.86905926e-02,  5.84706664e-02,\n",
       "         1.74264520e-01, -2.84498245e-01,  5.64030945e-01,\n",
       "         9.26549956e-02, -5.44119179e-01,  1.12884596e-01,\n",
       "        -4.24262881e-01, -2.94575155e-01, -7.67041445e-01,\n",
       "        -4.71266091e-01, -1.04267383e+00, -4.78331357e-01,\n",
       "         3.02836508e-01,  2.41987973e-01, -2.95075122e-02,\n",
       "         1.49166882e-01, -1.20293967e-01, -3.42999756e-01,\n",
       "        -4.56223711e-02,  2.10088551e-01,  1.40115112e-01,\n",
       "         6.96659554e-03,  4.81429100e-02,  3.65150794e-02,\n",
       "        -2.43276089e-01],\n",
       "       [-7.06913322e-02,  1.95662584e-02, -4.18033600e-02,\n",
       "         1.35648176e-01, -2.10198045e-01,  6.89237475e-01,\n",
       "        -1.48544654e-01,  1.86452549e-02,  2.51435727e-01,\n",
       "        -4.15139437e-01, -3.11930805e-01, -8.76203716e-01,\n",
       "        -7.10164070e-01, -7.26282001e-01,  2.55870879e-01,\n",
       "         4.80817825e-01,  5.35112560e-01,  1.18621767e-01,\n",
       "         1.73999950e-01,  8.84336606e-02, -3.88121635e-01,\n",
       "        -2.24109381e-01,  1.13339566e-01, -1.80678532e-01,\n",
       "        -5.43391295e-02, -3.56525958e-01, -2.64506638e-01,\n",
       "        -3.47782820e-01],\n",
       "       [-7.69412369e-02, -3.31944376e-02,  1.08047023e-01,\n",
       "        -1.22938558e-01, -9.33009163e-02,  2.49278173e-01,\n",
       "        -9.39867646e-02,  1.07024409e-01,  2.78582066e-01,\n",
       "        -1.30098879e-01,  2.17005640e-01, -2.14107692e-01,\n",
       "        -3.39591414e-01, -2.19591826e-01,  3.04406673e-01,\n",
       "         4.22498584e-01,  5.64770758e-01,  2.10296854e-01,\n",
       "        -1.05856262e-01, -4.01976049e-01, -2.52013415e-01,\n",
       "        -2.17364028e-01, -1.21340916e-01,  4.68867868e-02,\n",
       "         4.38594490e-01,  2.08343714e-01,  3.41265291e-01,\n",
       "        -7.56763741e-02],\n",
       "       [ 3.90128046e-02, -4.62785251e-02, -1.86782386e-02,\n",
       "         5.24678707e-01,  1.80722013e-01, -3.08379769e-01,\n",
       "        -4.98399675e-01,  5.65662049e-02,  3.62020522e-01,\n",
       "        -8.51719677e-02, -2.97765970e-01, -3.57531726e-01,\n",
       "        -8.72746855e-02, -1.70021608e-01,  8.11693519e-02,\n",
       "         2.92055488e-01,  5.18976271e-01,  1.62598282e-01,\n",
       "        -3.74701262e-01, -2.47635975e-01, -1.51110008e-01,\n",
       "        -4.13006574e-01, -2.40042672e-01,  6.14164881e-02,\n",
       "         9.92859155e-02,  4.91393059e-01,  1.89724907e-01,\n",
       "        -5.37347719e-02],\n",
       "       [ 8.01825151e-02, -6.17733076e-02,  9.17786956e-02,\n",
       "         7.61372387e-01,  1.21908057e+00, -4.59780246e-01,\n",
       "        -2.20109314e-01, -1.34353444e-01,  1.38606817e-01,\n",
       "        -1.88208789e-01, -3.02848816e-01, -2.78357178e-01,\n",
       "         1.49947450e-01,  3.17622423e-01,  2.59420812e-01,\n",
       "        -2.74074674e-02, -1.14476256e-01, -1.48804903e-01,\n",
       "         5.31020425e-02, -3.62396181e-01,  4.18735705e-02,\n",
       "        -2.97319144e-01, -1.07355632e-01, -2.16847420e-01,\n",
       "        -4.96952683e-02,  1.42632678e-01,  7.77775422e-02,\n",
       "        -5.15848324e-02],\n",
       "       [ 2.74874270e-02, -5.83355427e-02,  1.36203304e-01,\n",
       "         7.03072548e-01,  5.33700049e-01, -2.05752388e-01,\n",
       "        -1.19507788e-02, -2.43011340e-01, -3.64587903e-01,\n",
       "        -4.50141728e-01, -2.48261333e-01,  1.03740163e-01,\n",
       "         1.43781811e-01,  3.92035544e-01,  3.46565107e-03,\n",
       "         4.60492410e-02, -4.41098548e-02,  3.85663360e-02,\n",
       "        -1.04170896e-01, -2.30490208e-01, -2.52294779e-01,\n",
       "        -1.70284659e-01, -1.25438616e-01, -1.40471965e-01,\n",
       "         1.20859884e-03,  2.73918305e-02,  3.06843013e-01,\n",
       "        -3.65814045e-02],\n",
       "       [-1.48870051e-03,  4.42095324e-02, -2.76233703e-02,\n",
       "         3.94894481e-02,  1.62624896e-01, -2.91151591e-02,\n",
       "        -1.60320982e-01,  1.42760262e-01,  2.41183937e-01,\n",
       "        -3.05172026e-01, -2.36395121e-01,  3.47514808e-01,\n",
       "        -5.92610724e-02, -2.93970048e-01, -9.80707351e-03,\n",
       "        -1.57784820e-01, -3.11770260e-01,  3.21822733e-01,\n",
       "         7.10196719e-02, -6.96094483e-02, -2.99001895e-02,\n",
       "         1.40713185e-01, -4.32140976e-02, -2.28629857e-02,\n",
       "        -2.43071035e-01, -6.32832274e-02,  2.42572248e-01,\n",
       "         6.56000525e-03],\n",
       "       [ 1.10753626e-02,  4.40193042e-02, -3.62606347e-03,\n",
       "         6.44060150e-02,  4.63655800e-01,  6.22398198e-01,\n",
       "         3.65154088e-01,  2.48780295e-01,  2.47999623e-01,\n",
       "        -2.57394373e-01, -4.27117765e-01, -5.87917030e-01,\n",
       "         1.78546757e-02,  1.13908023e-01,  2.98817724e-01,\n",
       "        -2.18852609e-01,  2.70368576e-01,  8.12790871e-01,\n",
       "         7.17385113e-01,  5.27827263e-01,  2.22881287e-02,\n",
       "         1.80931702e-01,  1.17002465e-01, -2.48728752e-01,\n",
       "        -1.59311146e-01,  1.22232944e-01, -4.95896973e-02,\n",
       "         5.95292971e-02],\n",
       "       [ 1.13300309e-02,  1.97694600e-02, -5.66637665e-02,\n",
       "         6.86877966e-03, -3.69650647e-02, -7.90904015e-02,\n",
       "         6.85357526e-02, -6.74162954e-02,  2.24280909e-01,\n",
       "         6.18200898e-01,  3.97494078e-01,  7.28631735e-01,\n",
       "         9.61406350e-01,  6.30868435e-01,  1.42856941e-01,\n",
       "        -3.75968903e-01,  3.92445087e-01,  1.06851244e+00,\n",
       "         5.27685881e-01, -4.23447229e-03,  5.88741958e-01,\n",
       "         6.62513852e-01,  6.71847165e-01,  7.75583684e-01,\n",
       "         5.21676913e-02,  5.18872365e-02, -4.75239009e-03,\n",
       "        -5.74054271e-02],\n",
       "       [-7.34809637e-02, -4.75748517e-02,  7.36469775e-03,\n",
       "        -2.29281858e-02, -5.42161986e-02, -4.68337983e-02,\n",
       "         7.48521611e-02, -7.07712546e-02, -1.04040504e-01,\n",
       "        -1.29772127e-01,  3.96089330e-02,  2.73797929e-01,\n",
       "         3.19122940e-01,  6.40129983e-01,  1.00418448e+00,\n",
       "         7.11215198e-01,  9.34731722e-01,  7.79804528e-01,\n",
       "         6.31559312e-01,  1.45050704e-01,  9.20635462e-03,\n",
       "         5.89318573e-01,  6.86325848e-01, -2.28228085e-02,\n",
       "         1.67803168e-02, -6.38450757e-02, -2.35419199e-02,\n",
       "        -4.46775481e-02]], dtype=float32)"
      ]
     },
     "execution_count": 100,
     "metadata": {},
     "output_type": "execute_result"
    }
   ],
   "execution_count": 100
  },
  {
   "metadata": {
    "ExecuteTime": {
     "end_time": "2024-09-17T18:46:19.064062Z",
     "start_time": "2024-09-17T18:46:18.659271Z"
    }
   },
   "cell_type": "code",
   "source": [
    "def visualize_ith_neuron(i):\n",
    "    img = plt.imshow(get_ith_neuron_image(i), cmap='gray')\n",
    "    plt.title(f'Neuron {i} Weights')\n",
    "    plt.colorbar(img)\n",
    "    plt.show()\n",
    "\n",
    "\n",
    "visualize_ith_neuron(0)\n",
    "visualize_ith_neuron(42)"
   ],
   "id": "dcd41936b8174ec8",
   "outputs": [
    {
     "data": {
      "text/plain": [
       "<Figure size 640x480 with 2 Axes>"
      ],
      "image/png": "[encoded data removed]"
     },
     "metadata": {},
     "output_type": "display_data"
    },
    {
     "data": {
      "text/plain": [
       "<Figure size 640x480 with 2 Axes>"
      ],
      "image/png": "[encoded data removed]"
     },
     "metadata": {},
     "output_type": "display_data"
    }
   ],
   "execution_count": 109
  },
  {
   "metadata": {},
   "cell_type": "markdown",
   "source": "### Activation Maximization",
   "id": "82aad667f9f8843c"
  },
  {
   "metadata": {
    "ExecuteTime": {
     "end_time": "2024-09-17T19:59:37.178229Z",
     "start_time": "2024-09-17T19:59:37.167641Z"
    }
   },
   "cell_type": "code",
   "source": "input_img = keras.Variable(keras.random.normal(shape=[1, MNIST.H, MNIST.W, MNIST.C], seed=42), trainable=True)",
   "id": "4615c0d60d5b6dad",
   "outputs": [],
   "execution_count": 208
  },
  {
   "metadata": {
    "ExecuteTime": {
     "end_time": "2024-09-17T19:59:43.185829Z",
     "start_time": "2024-09-17T19:59:43.182807Z"
    }
   },
   "cell_type": "code",
   "source": "optimizer = torch.optim.Adam([input_img.value])",
   "id": "4c67672b80a72ee3",
   "outputs": [],
   "execution_count": 209
  },
  {
   "metadata": {
    "ExecuteTime": {
     "end_time": "2024-09-17T19:58:58.776638Z",
     "start_time": "2024-09-17T19:58:58.772127Z"
    }
   },
   "cell_type": "code",
   "source": "model.layers",
   "id": "562e5b47d6cd50cf",
   "outputs": [
    {
     "data": {
      "text/plain": [
       "[<Rescaling name=rescaling_4, built=True>,\n",
       " <Flatten name=flatten_4, built=True>,\n",
       " <Dense name=dense_8, built=True>,\n",
       " <Dense name=dense_9, built=True>]"
      ]
     },
     "execution_count": 205,
     "metadata": {},
     "output_type": "execute_result"
    }
   ],
   "execution_count": 205
  },
  {
   "metadata": {
    "ExecuteTime": {
     "end_time": "2024-09-17T20:21:09.367094Z",
     "start_time": "2024-09-17T20:21:07.908565Z"
    }
   },
   "cell_type": "code",
   "source": [
    "for i in range(1000):\n",
    "    optimizer.zero_grad()\n",
    "    flattened = model.layers[1](input_img)\n",
    "    activations = model.layers[2](flattened)\n",
    "    loss = -activations[0, 2]\n",
    "    loss.backward()\n",
    "    optimizer.step()\n",
    "    if i % 200 == 0:\n",
    "        print(activations[0, 2])"
   ],
   "id": "518a2c037663d846",
   "outputs": [
    {
     "name": "stdout",
     "output_type": "stream",
     "text": [
      "tensor(1691.3995, device='cuda:0', grad_fn=<SelectBackward0>)\n",
      "tensor(1735.4308, device='cuda:0', grad_fn=<SelectBackward0>)\n",
      "tensor(1779.4506, device='cuda:0', grad_fn=<SelectBackward0>)\n",
      "tensor(1823.4562, device='cuda:0', grad_fn=<SelectBackward0>)\n",
      "tensor(1867.4539, device='cuda:0', grad_fn=<SelectBackward0>)\n"
     ]
    }
   ],
   "execution_count": 369
  },
  {
   "metadata": {
    "ExecuteTime": {
     "end_time": "2024-09-17T20:21:10.723104Z",
     "start_time": "2024-09-17T20:21:10.719662Z"
    }
   },
   "cell_type": "code",
   "source": "img = input_img.value.detach().cpu().numpy().squeeze()",
   "id": "b21f6e784b88c459",
   "outputs": [],
   "execution_count": 370
  },
  {
   "metadata": {
    "ExecuteTime": {
     "end_time": "2024-09-17T20:33:45.724788Z",
     "start_time": "2024-09-17T20:33:45.545625Z"
    }
   },
   "cell_type": "code",
   "source": "visualize_ith_neuron(2)",
   "id": "77d1cd44260b6107",
   "outputs": [
    {
     "data": {
      "text/plain": [
       "<Figure size 640x480 with 2 Axes>"
      ],
      "image/png": "[encoded data removed]"
     },
     "metadata": {},
     "output_type": "display_data"
    }
   ],
   "execution_count": 375
  },
  {
   "metadata": {
    "ExecuteTime": {
     "end_time": "2024-09-17T20:32:02.304069Z",
     "start_time": "2024-09-17T20:32:02.112217Z"
    }
   },
   "cell_type": "code",
   "source": [
    "ax = plt.imshow(img, cmap='gray')\n",
    "plt.colorbar(ax)"
   ],
   "id": "6f9553af0d2e6dcb",
   "outputs": [
    {
     "data": {
      "text/plain": [
       "<matplotlib.colorbar.Colorbar at 0x7f8488efdf90>"
      ]
     },
     "execution_count": 374,
     "metadata": {},
     "output_type": "execute_result"
    },
    {
     "data": {
      "text/plain": [
       "<Figure size 640x480 with 2 Axes>"
      ],
      "image/png": "[encoded data removed]"
     },
     "metadata": {},
     "output_type": "display_data"
    }
   ],
   "execution_count": 374
  }
 ],
 "metadata": {
  "kernelspec": {
   "display_name": "Python 3",
   "language": "python",
   "name": "python3"
  },
  "language_info": {
   "codemirror_mode": {
    "name": "ipython",
    "version": 2
   },
   "file_extension": ".py",
   "mimetype": "text/x-python",
   "name": "python",
   "nbconvert_exporter": "python",
   "pygments_lexer": "ipython2",
   "version": "2.7.6"
  }
 },
 "nbformat": 4,
 "nbformat_minor": 5
}
